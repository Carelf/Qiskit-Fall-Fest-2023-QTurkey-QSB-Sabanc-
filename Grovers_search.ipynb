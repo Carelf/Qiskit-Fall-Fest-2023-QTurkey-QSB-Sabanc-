{
  "cells": [
    {
      "cell_type": "markdown",
      "metadata": {
        "id": "view-in-github",
        "colab_type": "text"
      },
      "source": [
        "<a href=\"https://colab.research.google.com/github/sbbzplt/QiskitFallFest_IZTECH/blob/master/Grovers_search.ipynb\" target=\"_parent\"><img src=\"https://colab.research.google.com/assets/colab-badge.svg\" alt=\"Open In Colab\"/></a>"
      ]
    },
    {
      "cell_type": "markdown",
      "metadata": {
        "id": "R2ULeQoLh2t8"
      },
      "source": [
        "# Grover's Search"
      ]
    },
    {
      "cell_type": "markdown",
      "metadata": {
        "id": "6Yfsk54Vh2uB"
      },
      "source": [
        "\n",
        "You may have heard that one of the advantages a quantum computer has over a classical computer is its superior speed searching databases.<br/>\n",
        "Grover's algorithm demonstrates this capability. This algorithm can speed up an unstructured search problem quadratically, but its uses extend beyond that; it can serve as a general trick or subroutine to obtain quadratic run time improvements for a variety of other algorithms. This is called the amplitude amplification trick.\n",
        "\n",
        "This page will walk you through the description of the search problem, building the oracle - the circuit representation of our search problem, and implementing the complete Grover algorithm in Qiskit."
      ]
    },
    {
      "cell_type": "markdown",
      "metadata": {
        "id": "cYnxKGdxh2uC"
      },
      "source": [
        "# Unstructured search\n",
        "Suppose you are given a large list of N items. Among these items there is one item with a unique property that we wish to locate; we will call this one the winner w. Think of each item in the list as a box of a particular item. Say all items in the list have grey colored items except the winning item w."
      ]
    },
    {
      "cell_type": "markdown",
      "metadata": {
        "id": "VVEnJWAgh2uD"
      },
      "source": [
        "<img src=\"./fig/unstructured_search.png\" width=\"700\">"
      ]
    },
    {
      "cell_type": "markdown",
      "metadata": {
        "id": "IHAyV6Rmh2uD"
      },
      "source": [
        "To find the winning item -- the marked item -- using classical computation, one would have to check on average $N/2$ of these boxes, and in the worst case, all $N$ of them. On a quantum computer, however, we can find the marked item in roughly $\\sqrt{N}$ steps with Grover's amplitude amplification trick. A quadratic speedup is indeed a substantial time-saver for finding marked items in long lists. Additionally, the algorithm does not use the list's internal structure, which makes it generic; this is why it immediately provides a quadratic quantum speed-up for many classical problems."
      ]
    },
    {
      "cell_type": "markdown",
      "metadata": {
        "id": "ToxSt2F0h2uE"
      },
      "source": [
        "# Creating an Oracle that marks the winning item\n",
        "How will the list items be provided to the quantum computer? A common way to encode such a list is in terms of a function 𝑓 that returns $f(x)=0$ for all unmarked items $x$, and $f(w)=1$ for the winner. To use a quantum computer for this problem, we must provide the items in superposition to this function, so we encode the function into a unitary matrix called an **oracle**. First we choose a binary encoding of the items $x,w \\in \\{0,1\\}^n$ so that $N=2^n$. This way, we can represent it in terms of qubits on a quantum computer. We then define the oracle matrix $U_w$ to act on any of the simple, standard basis states $|x>$ by $U_w |x> = (-1)^{f(x)}|x>$\n",
        "\n",
        "We see that if $x$ is an unmarked item, the oracle does nothing to the state. However, when we apply the oracle to the basis state $|w>$, it maps $U_w |w> = -|w>$. Geometrically, this unitary matrix corresponds to a reflection about the origin for the marked item in an $N=2^n$-dimensional vector space.\n",
        "\n",
        "<img src=\"./fig/oracle.png\" width=\"700\">"
      ]
    },
    {
      "cell_type": "markdown",
      "metadata": {
        "id": "z_fupFnRh2uF"
      },
      "source": [
        "$ \\newcommand{\\ket}[1]{|#1\\rangle} $\n",
        "Suppose that we are given an unordered list and we make a search of a specific element called as marked.\n",
        "- We access the list via an oracle: we can make queries to the list.\n",
        "- If there are $ N $ elements in the list, we use $ \\log(N) $ qubits. (Assume that $N$ is a power of 2.) \n",
        "- Each basis state, i.e., $ \\ket{0 \\cdots 0}, \\ldots, \\ket{1 \\cdots 1} $, corresponds to an index of the list.\n",
        "- If the searched element is detected, then the oracle flips the sign of the corresponding amplitude.\n",
        "\n",
        "<i style=\"color:blue;\">Below, we will simulate the oracle with the pre-knowledge of marked element(s). In the real implementation, the oracle should have a quantum mechanism detecting the marked elements while being in a superposition of all indices, and then the sign(s) of the corresponding amplitude(s) is (are) flipped automatically. This is indeed the main technological challenge for implementing Grover's search algorithm.</i>\n",
        "\n",
        "At the beginning, Hadamard operator is applied to each qubit. Thus, the amplitude of each basis state is set to $ \\frac{1}{\\sqrt{N}} $.\n",
        "- We can interpret this as all elements start with the same amplitude.\n",
        "- As we iterate the amplitudes of marked and unmarked elements are changed."
      ]
    },
    {
      "cell_type": "markdown",
      "metadata": {
        "id": "GeDhj48kh2uF"
      },
      "source": [
        "# Amplitude amplification\n",
        "So how does the algorithm work? Before looking at the list of items, we have no idea where the marked item is. Therefore, any guess of its location is as good as any other. You may have heard the term superposition This can be expressed in terms of a uniform superposition: <br/>\n",
        "$$|s> = \\frac{1}{\\sqrt N}\\sum_{x=0}^{N-1} |x> $$\n",
        "\n",
        "If at this point we were to measure in the standard basis $|x>$, this superposition would collapse to any one of the basis states with the same probability of $\\frac{1}{N} = \\frac{1}{2^{n}} $. Our chances of guessing the right value $|w>$ is therefore $\\frac{1}{2^{n}}$, as could be expected. Hence, on average we would need to try about $N=2^{n}$ times to guess the correct item."
      ]
    },
    {
      "cell_type": "markdown",
      "metadata": {
        "id": "VUF4dM1yh2uG"
      },
      "source": [
        "Now let's play a game to understand how amplitude amplification works in Grover's Search.\n",
        "\n",
        "We have a list of N elements. \n",
        "\n",
        "Some of them are marked.\n",
        "\n",
        "At the beginning each has a value of 1.\n",
        "\n",
        " Each iteration of the game has two phases:\n",
        "\n",
        "<ol>\n",
        "    <li><b>Query</b>: In this phase, we assume that each marked element is detected, and then its sign is flipped.</li>\n",
        "    <li><b>Inversion</b>: In this phase, the value of each element is reflected over the mean of all values.</li>\n",
        "</ol>"
      ]
    },
    {
      "cell_type": "markdown",
      "metadata": {
        "id": "-5jr71dSh2uH"
      },
      "source": [
        "We play this game for $ N = 8 $.\n",
        "\n",
        "Suppose that only the 4th element is marked.\n",
        "\n",
        "We can visualize the values of elements in the list in the beginning as follows."
      ]
    },
    {
      "cell_type": "code",
      "execution_count": null,
      "metadata": {
        "id": "w9dFj3thh2uI"
      },
      "outputs": [],
      "source": [
        "from matplotlib.pyplot import bar\n",
        "\n",
        "labels = []\n",
        "elements = []\n",
        "for i in range(8):\n",
        "    labels = labels + [i+1]\n",
        "    elements  = elements + [1]\n",
        "\n",
        "# visualize the values of elements in the list \n",
        "bar(labels,elements)"
      ]
    },
    {
      "cell_type": "code",
      "execution_count": null,
      "metadata": {
        "id": "5eIJLndJh2uJ"
      },
      "outputs": [],
      "source": [
        "# \n",
        "# 1st step - query\n",
        "#\n",
        "\n",
        "# flip the sign of the marked element\n",
        "elements[3] = -1 * elements[3]\n",
        "\n",
        "# visualize the values of elements in the list \n",
        "bar(labels,elements)"
      ]
    },
    {
      "cell_type": "markdown",
      "metadata": {
        "id": "EVqooOH7h2uK"
      },
      "source": [
        "1st step - inversion phase:"
      ]
    },
    {
      "cell_type": "code",
      "execution_count": null,
      "metadata": {
        "scrolled": true,
        "id": "03F-AQZ1h2uL"
      },
      "outputs": [],
      "source": [
        "#\n",
        "# 1st step - inversion\n",
        "#\n",
        "\n",
        "# summation of all values\n",
        "sum = 0\n",
        "for i in range(len(elements)):\n",
        "    sum += elements[i]\n",
        "\n",
        "# mean of all values\n",
        "mean = sum / len(elements)\n",
        "\n",
        "# reflection over the mean\n",
        "for i in range(len(elements)):\n",
        "    value = elements[i]\n",
        "    new_value = mean - (value-mean)\n",
        "    elements[i] = new_value\n",
        "\n",
        "# visualize the values of elements in the list \n",
        "bar(labels,elements)"
      ]
    },
    {
      "cell_type": "markdown",
      "metadata": {
        "id": "K2P2Mmbzh2uL"
      },
      "source": [
        "Iterate the game for one more step and visualize the values of elements in the list after each phase."
      ]
    },
    {
      "cell_type": "markdown",
      "metadata": {
        "id": "va9hOHylh2uM"
      },
      "source": [
        "2nd step - query phase:"
      ]
    },
    {
      "cell_type": "code",
      "execution_count": null,
      "metadata": {
        "id": "snFMF45gh2uN"
      },
      "outputs": [],
      "source": [
        "# \n",
        "# 2nd step - query\n",
        "#\n",
        "\n",
        "# flip the sign of the marked element\n",
        "elements[3] = -1 * elements[3]\n",
        "\n",
        "# visualize the values of elements in the list \n",
        "bar(labels,elements)"
      ]
    },
    {
      "cell_type": "markdown",
      "metadata": {
        "id": "yGnzkmOBh2uN"
      },
      "source": [
        "2nd step - inversion phase:"
      ]
    },
    {
      "cell_type": "code",
      "execution_count": null,
      "metadata": {
        "id": "ZrHk6Wa4h2uO"
      },
      "outputs": [],
      "source": [
        "#\n",
        "# 2nd step - inversion\n",
        "#\n",
        "\n",
        "# summation of all values\n",
        "sum = 0\n",
        "for i in range(len(elements)):\n",
        "    sum += elements[i]\n",
        "\n",
        "# mean of all values\n",
        "mean = sum / len(elements)\n",
        "\n",
        "# reflection over mean\n",
        "for i in range(len(elements)):\n",
        "    value = elements[i]\n",
        "    new_value = mean - (value-mean)\n",
        "    elements[i] = new_value\n",
        "\n",
        "# visualize the values of elements in the list \n",
        "bar(labels,elements)"
      ]
    },
    {
      "cell_type": "markdown",
      "metadata": {
        "id": "jGSkAt8Eh2uO"
      },
      "source": [
        "Iterate the game three more steps and visualize the values of elements in the list at the end."
      ]
    },
    {
      "cell_type": "code",
      "execution_count": null,
      "metadata": {
        "id": "iKmba8qUh2uP"
      },
      "outputs": [],
      "source": [
        "for i in range(3):\n",
        "    # flip the sign of the marked element\n",
        "    elements[3] = -1 * elements[3]\n",
        "    \n",
        "    # summation of all values\n",
        "    sum = 0\n",
        "    for i in range(len(elements)):\n",
        "        sum += elements[i]\n",
        "\n",
        "    # mean of all values\n",
        "    mean = sum / len(elements)\n",
        "\n",
        "    # reflection over mean\n",
        "    for i in range(len(elements)):\n",
        "        value = elements[i]\n",
        "        new_value = mean - (value-mean)\n",
        "        elements[i] = new_value\n",
        "        \n",
        "# visualize the values of elements in the list \n",
        "bar(labels,elements)        "
      ]
    },
    {
      "cell_type": "markdown",
      "metadata": {
        "id": "FyPyPYemh2uP"
      },
      "source": [
        "<h4> The number of iterations </h4>\n",
        "\n",
        "When the number of marked elements are less than the unmarked elements, the amplitudes of marked elements start to increase. \n",
        "\n",
        "Then, we reach the first peak such that the probability of observing a marked element takes its maximum value. \n",
        "\n",
        "After passing this point, the amplitudes of marked elements start to decrease."
      ]
    },
    {
      "cell_type": "markdown",
      "metadata": {
        "id": "rgXpgd0kh2uP"
      },
      "source": [
        "## Qiskit implementation: Grover's algorithm using 3 qubits\n",
        "Now, let's impement Grover's algorithm using Qiskit. In this example, we will use 3 qubits to find the state |11⟩.\n",
        "\n",
        "First we prepare our environment."
      ]
    },
    {
      "cell_type": "code",
      "execution_count": null,
      "metadata": {
        "id": "mU-Rtc0Gh2uQ"
      },
      "outputs": [],
      "source": [
        "#initialization\n",
        "import matplotlib.pyplot as plt\n",
        "%matplotlib inline\n",
        "import numpy as np\n",
        "\n",
        "# importing Qiskit\n",
        "from qiskit import IBMQ, BasicAer\n",
        "from qiskit.providers.ibmq import least_busy\n",
        "from qiskit import QuantumCircuit, ClassicalRegister, QuantumRegister, execute\n",
        "\n",
        "# import basic plot tools\n",
        "from qiskit.tools.visualization import plot_histogram"
      ]
    },
    {
      "cell_type": "markdown",
      "metadata": {
        "id": "My3A23Fxh2uR"
      },
      "source": [
        "As we have seen in Step1, let us create an oracle to mark the state |11⟩. \n",
        "\n",
        "First, we will set qubit 2 to 1 if the input state is |11>."
      ]
    },
    {
      "cell_type": "code",
      "execution_count": null,
      "metadata": {
        "id": "rcHBkkhrh2uR",
        "outputId": "6d3a9583-fa2f-4565-cc22-bdf7c852e343"
      },
      "outputs": [
        {
          "data": {
            "image/png": "[encoded data removed]",
            "text/plain": [
              "<Figure size 146.797x204.68 with 1 Axes>"
            ]
          },
          "execution_count": 58,
          "metadata": {},
          "output_type": "execute_result"
        }
      ],
      "source": [
        "def phase_oracle():\n",
        "    qc = QuantumCircuit(3)\n",
        "    qc.ccx(0,1,2)\n",
        "    return qc\n",
        "\n",
        "qc = QuantumCircuit(3)\n",
        "qc += phase_oracle()\n",
        "qc.draw(output=\"mpl\")"
      ]
    },
    {
      "cell_type": "markdown",
      "metadata": {
        "id": "3mPH58_Vh2uS"
      },
      "source": [
        "But this is not enough. We need to flip the amplitude of the corresponding state. So, we will use a Z gate. "
      ]
    },
    {
      "cell_type": "code",
      "execution_count": null,
      "metadata": {
        "id": "q36iltwYh2uS",
        "outputId": "9a8dab39-444f-4afb-bb71-08dd6a35f07a"
      },
      "outputs": [
        {
          "data": {
            "image/png": "[encoded data removed]",
            "text/plain": [
              "<Figure size 206.997x204.68 with 1 Axes>"
            ]
          },
          "execution_count": 60,
          "metadata": {},
          "output_type": "execute_result"
        }
      ],
      "source": [
        "def phase_oracle():\n",
        "    qc = QuantumCircuit(3)\n",
        "    qc.ccx(0,1,2)\n",
        "    return qc\n",
        "\n",
        "qc = QuantumCircuit(3)\n",
        "qc += phase_oracle()\n",
        "qc.z(2)\n",
        "qc.draw(output=\"mpl\")"
      ]
    },
    {
      "cell_type": "markdown",
      "metadata": {
        "id": "-ROctADeh2uT"
      },
      "source": [
        "We are not done. We need to revert back what we have done to qubit 2, to not affect the rest of the computation. This will become clear in more complicated circuits. There is a function called `inverse()` which can do this for us."
      ]
    },
    {
      "cell_type": "code",
      "execution_count": null,
      "metadata": {
        "id": "BreEJMQ7h2uT",
        "outputId": "1600f232-7bcd-457f-cd70-eacbb3fbbf51"
      },
      "outputs": [
        {
          "data": {
            "image/png": "[encoded data removed]",
            "text/plain": [
              "<Figure size 267.197x204.68 with 1 Axes>"
            ]
          },
          "execution_count": 62,
          "metadata": {},
          "output_type": "execute_result"
        }
      ],
      "source": [
        "def phase_oracle():\n",
        "    qc = QuantumCircuit(3)\n",
        "    qc.ccx(0,1,2)\n",
        "    return qc\n",
        "\n",
        "qc = QuantumCircuit(3)\n",
        "qc += phase_oracle()\n",
        "qc.z(2)\n",
        "qc += phase_oracle().inverse()\n",
        "qc.draw(output=\"mpl\")"
      ]
    },
    {
      "cell_type": "markdown",
      "metadata": {
        "id": "40WF3iEEh2uU"
      },
      "source": [
        "Next we set up the circuit for inversion about the average as we saw in step 2. This circuit is sometimes called an amplitude ampification module or a diffusion circuit."
      ]
    },
    {
      "cell_type": "code",
      "execution_count": null,
      "metadata": {
        "id": "ePyv83Wph2uV"
      },
      "outputs": [],
      "source": [
        "def inversion_about_average():\n",
        "    \"\"\"Apply inversion about the average step of Grover's algorithm.\"\"\"\n",
        "    circuit = QuantumCircuit(3)\n",
        "    for i in range(2):\n",
        "        circuit.h(i)\n",
        "    for i in range(2):\n",
        "        circuit.x(i)\n",
        "    circuit.h(1)\n",
        "    circuit.cx(0, 1)\n",
        "    circuit.h(1)\n",
        "    for i in range(2):\n",
        "        circuit.x(i)\n",
        "    for i in range(2):\n",
        "        circuit.h(i)\n",
        "    return circuit"
      ]
    },
    {
      "cell_type": "code",
      "execution_count": null,
      "metadata": {
        "id": "KcvpuG_Wh2uW",
        "outputId": "250b1f35-a5e0-4645-d9d3-7eded8da210a"
      },
      "outputs": [
        {
          "data": {
            "image/png": "[encoded data removed]",
            "text/plain": [
              "<Figure size 507.997x204.68 with 1 Axes>"
            ]
          },
          "execution_count": 76,
          "metadata": {},
          "output_type": "execute_result"
        }
      ],
      "source": [
        "qAverage = QuantumCircuit(3)\n",
        "qAverage += inversion_about_average()\n",
        "qAverage.draw(output='mpl')"
      ]
    },
    {
      "cell_type": "markdown",
      "metadata": {
        "id": "gBGubsTuh2uZ"
      },
      "source": [
        "Now we put the pieces together.\n",
        "\n",
        "We first create a uniform superposition at the start of the circuit.\n",
        "Then we apply oracle to mark the state. To put the -1 in front, we use a Z gate.\n",
        "The we call the circuit for inversion over the average.\n",
        "\n",
        "1 iteration is sufficient in this case."
      ]
    },
    {
      "cell_type": "code",
      "execution_count": null,
      "metadata": {
        "id": "NnT04WtQh2ua",
        "outputId": "2f82bbb8-f864-4dee-e010-ac9d1ed866ea"
      },
      "outputs": [
        {
          "data": {
            "image/png": "[encoded data removed]",
            "text/plain": [
              "<Figure size 929.397x264.88 with 1 Axes>"
            ]
          },
          "execution_count": 77,
          "metadata": {},
          "output_type": "execute_result"
        }
      ],
      "source": [
        "groverCircuit = QuantumCircuit(3,2)\n",
        "for i in range(2):\n",
        "    groverCircuit.h(i)\n",
        "\n",
        "#query phase\n",
        "groverCircuit += phase_oracle()\n",
        "groverCircuit.z(2)\n",
        "groverCircuit += phase_oracle().inverse()\n",
        "\n",
        "groverCircuit.barrier()\n",
        "\n",
        "#inversion phase\n",
        "groverCircuit += inversion_about_average()\n",
        "\n",
        "#measure in reverse order\n",
        "for i in range(2):    \n",
        "    groverCircuit.measure(i,1-i)\n",
        "\n",
        "groverCircuit.draw(output=\"mpl\")"
      ]
    },
    {
      "cell_type": "markdown",
      "metadata": {
        "id": "0OiuWBeHh2uc"
      },
      "source": [
        "### Experiment with Simulators\n",
        "We now run the above circuit on the simulator."
      ]
    },
    {
      "cell_type": "code",
      "execution_count": null,
      "metadata": {
        "id": "Pket2AuTh2ud",
        "outputId": "6404c076-984b-427e-c20e-9a660d8f21aa"
      },
      "outputs": [
        {
          "data": {
            "image/png": "[encoded data removed]",
            "text/plain": [
              "<Figure size 504x360 with 1 Axes>"
            ]
          },
          "execution_count": 78,
          "metadata": {},
          "output_type": "execute_result"
        }
      ],
      "source": [
        "backend = BasicAer.get_backend('qasm_simulator')\n",
        "shots = 1024\n",
        "results = execute(groverCircuit, backend=backend, shots=shots).result()\n",
        "answer = results.get_counts()\n",
        "plot_histogram(answer)"
      ]
    },
    {
      "cell_type": "markdown",
      "metadata": {
        "id": "6k04o4vzh2ue"
      },
      "source": [
        "As we can see, the algorithm discovers our marked states."
      ]
    },
    {
      "cell_type": "markdown",
      "metadata": {
        "id": "T9kUAIq8h2ue"
      },
      "source": [
        "### Task 1\n",
        "Implement Grover's algorithm with 2 qubits to find the answer $|10>$.\n",
        "\n",
        "You can use the same diffusion operator. You need to create a new oracle to mark state 10."
      ]
    },
    {
      "cell_type": "code",
      "execution_count": null,
      "metadata": {
        "id": "_slXoIgQh2ue"
      },
      "outputs": [],
      "source": [
        "def new_oracle():\n",
        "    \n",
        "    #Your code here"
      ]
    },
    {
      "cell_type": "code",
      "execution_count": null,
      "metadata": {
        "id": "P8iXUTJ0h2ue"
      },
      "outputs": [],
      "source": [
        "def inversion_about_average():\n",
        "    \"\"\"Apply inversion about the average step of Grover's algorithm.\"\"\"\n",
        "    circuit = QuantumCircuit(3)\n",
        "    for i in range(2):\n",
        "        circuit.h(i)\n",
        "    for i in range(2):\n",
        "        circuit.x(i)\n",
        "    circuit.h(1)\n",
        "    circuit.cx(0, 1)\n",
        "    circuit.h(1)\n",
        "    for i in range(2):\n",
        "        circuit.x(i)\n",
        "    for i in range(2):\n",
        "        circuit.h(i)\n",
        "    return circuit"
      ]
    },
    {
      "cell_type": "code",
      "execution_count": null,
      "metadata": {
        "id": "jUwE3hryh2uf"
      },
      "outputs": [],
      "source": [
        "groverCircuit = QuantumCircuit(3,2)\n",
        "for i in range(2):\n",
        "    groverCircuit.h(i)\n",
        "\n",
        "#query phase\n",
        "groverCircuit += new_oracle()\n",
        "groverCircuit.z(2)\n",
        "groverCircuit += new_oracle().inverse()\n",
        "\n",
        "groverCircuit.barrier()\n",
        "\n",
        "#inversion phase\n",
        "groverCircuit += inversion_about_average()\n",
        "\n",
        "#measure in reverse order\n",
        "for i in range(2):    \n",
        "    groverCircuit.measure(i,1-i)\n",
        "\n",
        "groverCircuit.draw(output=\"mpl\")"
      ]
    },
    {
      "cell_type": "code",
      "execution_count": null,
      "metadata": {
        "id": "KOXsJgPih2uf"
      },
      "outputs": [],
      "source": [
        "backend = BasicAer.get_backend('qasm_simulator')\n",
        "shots = 1024\n",
        "results = execute(groverCircuit, backend=backend, shots=shots).result()\n",
        "answer = results.get_counts()\n",
        "plot_histogram(answer)"
      ]
    },
    {
      "cell_type": "markdown",
      "metadata": {
        "id": "IMZqFElih2ug"
      },
      "source": [
        "[click for our solution](Grovers_search_solutions.ipynb#task1)"
      ]
    }
  ],
  "metadata": {
    "kernelspec": {
      "display_name": "Python 3",
      "language": "python",
      "name": "python3"
    },
    "language_info": {
      "codemirror_mode": {
        "name": "ipython",
        "version": 3
      },
      "file_extension": ".py",
      "mimetype": "text/x-python",
      "name": "python",
      "nbconvert_exporter": "python",
      "pygments_lexer": "ipython3",
      "version": "3.7.3"
    },
    "colab": {
      "provenance": [],
      "include_colab_link": true
    }
  },
  "nbformat": 4,
  "nbformat_minor": 0
}