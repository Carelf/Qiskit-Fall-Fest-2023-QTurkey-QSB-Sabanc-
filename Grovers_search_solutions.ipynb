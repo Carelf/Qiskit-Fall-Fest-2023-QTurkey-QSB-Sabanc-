{
  "cells": [
    {
      "cell_type": "markdown",
      "metadata": {
        "id": "view-in-github",
        "colab_type": "text"
      },
      "source": [
        "<a href=\"https://colab.research.google.com/github/sbbzplt/QiskitFallFest_IZTECH/blob/master/Grovers_search_solutions.ipynb\" target=\"_parent\"><img src=\"https://colab.research.google.com/assets/colab-badge.svg\" alt=\"Open In Colab\"/></a>"
      ]
    },
    {
      "cell_type": "code",
      "execution_count": null,
      "id": "60c37226",
      "metadata": {
        "id": "60c37226"
      },
      "outputs": [],
      "source": [
        "from qiskit import *"
      ]
    },
    {
      "cell_type": "markdown",
      "id": "dbb540b1",
      "metadata": {
        "id": "dbb540b1"
      },
      "source": [
        "### Task 1\n",
        "Implement Grover's algorithm with 2 qubits to find the answer $|10>$.\n",
        "\n",
        "You can use the same diffusion operator. You need to create a new oracle to mark state 10."
      ]
    },
    {
      "cell_type": "markdown",
      "id": "10a98e33",
      "metadata": {
        "id": "10a98e33"
      },
      "source": [
        "### Solution"
      ]
    },
    {
      "cell_type": "code",
      "execution_count": null,
      "id": "82fed3cb",
      "metadata": {
        "id": "82fed3cb"
      },
      "outputs": [],
      "source": [
        "def new_oracle():\n",
        "    qc = QuantumCircuit(3)\n",
        "    qc.x(1)\n",
        "    qc.ccx(0,1,2)\n",
        "    qc.x(1)\n",
        "    return qc"
      ]
    },
    {
      "cell_type": "code",
      "execution_count": null,
      "id": "566948da",
      "metadata": {
        "id": "566948da"
      },
      "outputs": [],
      "source": [
        "def inversion_about_average():\n",
        "    \"\"\"Apply inversion about the average step of Grover's algorithm.\"\"\"\n",
        "    circuit = QuantumCircuit(3)\n",
        "    for i in range(2):\n",
        "        circuit.h(i)\n",
        "    for i in range(2):\n",
        "        circuit.x(i)\n",
        "    circuit.h(1)\n",
        "    circuit.cx(0, 1)\n",
        "    circuit.h(1)\n",
        "    for i in range(2):\n",
        "        circuit.x(i)\n",
        "    for i in range(2):\n",
        "        circuit.h(i)\n",
        "    return circuit"
      ]
    },
    {
      "cell_type": "code",
      "execution_count": null,
      "id": "e5e3e176",
      "metadata": {
        "id": "e5e3e176",
        "outputId": "ab3bae7d-a6b2-4678-a4ef-ac358223fd1a"
      },
      "outputs": [
        {
          "name": "stderr",
          "output_type": "stream",
          "text": [
            "C:\\ProgramData\\Anaconda3\\lib\\site-packages\\ipykernel_launcher.py:6: DeprecationWarning: The QuantumCircuit.__iadd__() method is being deprecated. Use the compose() (potentially with the inplace=True argument) and tensor() methods which are more flexible w.r.t circuit register compatibility.\n",
            "  \n",
            "C:\\Users\\USER\\AppData\\Roaming\\Python\\Python37\\site-packages\\qiskit\\circuit\\quantumcircuit.py:942: DeprecationWarning: The QuantumCircuit.extend() method is being deprecated. Use the compose() (potentially with the inplace=True argument) and tensor() methods which are more flexible w.r.t circuit register compatibility.\n",
            "  return self.extend(rhs)\n"
          ]
        },
        {
          "data": {
            "image/png": "[encoded data removed]",
            "text/plain": [
              "<Figure size 1110x264.88 with 1 Axes>"
            ]
          },
          "execution_count": 13,
          "metadata": {},
          "output_type": "execute_result"
        }
      ],
      "source": [
        "groverCircuit = QuantumCircuit(3,2)\n",
        "for i in range(2):\n",
        "    groverCircuit.h(i)\n",
        "\n",
        "#query phase\n",
        "groverCircuit += new_oracle()\n",
        "groverCircuit.z(2)\n",
        "groverCircuit += new_oracle().inverse()\n",
        "\n",
        "groverCircuit.barrier()\n",
        "\n",
        "#inversion phase\n",
        "groverCircuit += inversion_about_average()\n",
        "\n",
        "#measure in reverse order\n",
        "for i in range(2):    \n",
        "    groverCircuit.measure(i,1-i)\n",
        "\n",
        "groverCircuit.draw(output=\"mpl\")"
      ]
    },
    {
      "cell_type": "code",
      "execution_count": null,
      "id": "bc56205c",
      "metadata": {
        "id": "bc56205c",
        "outputId": "dda3b88f-426b-4754-9378-42981b83607b"
      },
      "outputs": [
        {
          "name": "stdout",
          "output_type": "stream",
          "text": [
            "{'10': 1024}\n"
          ]
        }
      ],
      "source": [
        "backend = BasicAer.get_backend('qasm_simulator')\n",
        "shots = 1024\n",
        "results = execute(groverCircuit, backend=backend, shots=shots).result()\n",
        "answer = results.get_counts()\n",
        "print(answer)"
      ]
    },
    {
      "cell_type": "code",
      "execution_count": null,
      "id": "dad61d36",
      "metadata": {
        "id": "dad61d36"
      },
      "outputs": [],
      "source": []
    }
  ],
  "metadata": {
    "kernelspec": {
      "display_name": "Python 3",
      "language": "python",
      "name": "python3"
    },
    "language_info": {
      "codemirror_mode": {
        "name": "ipython",
        "version": 3
      },
      "file_extension": ".py",
      "mimetype": "text/x-python",
      "name": "python",
      "nbconvert_exporter": "python",
      "pygments_lexer": "ipython3",
      "version": "3.7.3"
    },
    "colab": {
      "provenance": [],
      "include_colab_link": true
    }
  },
  "nbformat": 4,
  "nbformat_minor": 5
}