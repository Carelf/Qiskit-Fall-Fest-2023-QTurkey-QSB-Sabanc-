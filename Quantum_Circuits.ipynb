{
  "cells": [
    {
      "cell_type": "markdown",
      "metadata": {
        "id": "view-in-github",
        "colab_type": "text"
      },
      "source": [
        "<a href=\"https://colab.research.google.com/github/sbbzplt/QiskitFallFest_IZTECH/blob/master/Quantum_Circuits.ipynb\" target=\"_parent\"><img src=\"https://colab.research.google.com/assets/colab-badge.svg\" alt=\"Open In Colab\"/></a>"
      ]
    },
    {
      "cell_type": "markdown",
      "metadata": {
        "id": "Xo_gc4RxlzzL"
      },
      "source": [
        "## Quantum Circuits"
      ]
    },
    {
      "cell_type": "code",
      "execution_count": null,
      "metadata": {
        "id": "gR6wk6j5lzzQ"
      },
      "outputs": [],
      "source": [
        "from qiskit import QuantumRegister, ClassicalRegister, QuantumCircuit\n",
        "from qiskit import IBMQ, Aer, execute\n"
      ]
    },
    {
      "cell_type": "markdown",
      "metadata": {
        "id": "UeJpvxAXlzzS"
      },
      "source": [
        "### What are quantum circuits?\n",
        "Quantum circuits are models for quantum computation in which a computation is a sequence of quantum gates. Let's take a look at some of the popular quantum gates."
      ]
    },
    {
      "cell_type": "markdown",
      "metadata": {
        "id": "4L7wZ4eqlzzT"
      },
      "source": [
        "### X Gate\n",
        "An X Gate equates to a rotation around the X-axis of the Bloch sphere by $\\pi$ radians.\n",
        "It maps |0> to |1>、|1> to |0>. It is the quantum equivalent of the NOT gate for classical computers and is sometimes called a bit-flip.\n",
        "\n",
        "$X = \\begin{pmatrix}\n",
        "0 & 1 \\\\\n",
        "1 & 0 \\\\\n",
        "\\end{pmatrix}$"
      ]
    },
    {
      "cell_type": "code",
      "execution_count": null,
      "metadata": {
        "id": "A_pRVSEdlzzU",
        "outputId": "287a9d32-8a2c-479a-bec2-2272977ab4ed"
      },
      "outputs": [
        {
          "data": {
            "image/png": "[encoded data removed]",
            "text/plain": [
              "<Figure size 133.526x84.28 with 1 Axes>"
            ]
          },
          "execution_count": 10,
          "metadata": {},
          "output_type": "execute_result"
        }
      ],
      "source": [
        "qc = QuantumCircuit(1)\n",
        "qc.x(0)\n",
        "qc.draw(output='mpl')"
      ]
    },
    {
      "cell_type": "markdown",
      "metadata": {
        "id": "_rX-0by7lzzV"
      },
      "source": [
        "### Z Gate\n",
        "It equates to a rotation around the Z-axis of the Bloch sphere by $\\pi$ radians. It is sometimes called a 'phase shift gate'.\n",
        "\n",
        "$Z = \\begin{pmatrix}\n",
        "1 & 0 \\\\\n",
        "0 & -1 \\\\\n",
        "\\end{pmatrix}$"
      ]
    },
    {
      "cell_type": "code",
      "execution_count": null,
      "metadata": {
        "id": "rt1Db3eRlzzW",
        "outputId": "4f6e14ff-753e-487e-f50a-a036f869d661"
      },
      "outputs": [
        {
          "data": {
            "image/png": "[encoded data removed]",
            "text/plain": [
              "<Figure size 133.526x84.28 with 1 Axes>"
            ]
          },
          "execution_count": 13,
          "metadata": {},
          "output_type": "execute_result"
        }
      ],
      "source": [
        "qc = QuantumCircuit(1)\n",
        "qc.z(0)\n",
        "qc.draw(output='mpl')"
      ]
    },
    {
      "cell_type": "markdown",
      "metadata": {
        "id": "4JB1ujpKlzzX"
      },
      "source": [
        "### H Gate\n",
        "A Hadamard gate represents a rotation of $\\pi$ about the axis which is just middle of $X$-axis and $Z$-axis.\n",
        "It maps the basis state |0> to $\\frac{|0> + |1>}{\\sqrt{2}}$, which means that a measurement will have equal probabilities to become 1 or 0 creating a 'superposition' of states.\n",
        "\n",
        "$H = \\frac{1}{\\sqrt{2}}\\begin{pmatrix}\n",
        "1 & 1 \\\\\n",
        "1 & -1 \\\\\n",
        "\\end{pmatrix}$"
      ]
    },
    {
      "cell_type": "code",
      "execution_count": null,
      "metadata": {
        "id": "Wp7Zig8slzzY",
        "outputId": "263870f1-940d-4947-f1dd-414a1e823368"
      },
      "outputs": [
        {
          "data": {
            "image/png": "[encoded data removed]",
            "text/plain": [
              "<Figure size 133.526x84.28 with 1 Axes>"
            ]
          },
          "execution_count": 14,
          "metadata": {},
          "output_type": "execute_result"
        }
      ],
      "source": [
        "qc = QuantumCircuit(1)\n",
        "qc.h(0)\n",
        "qc.draw(output='mpl')"
      ]
    },
    {
      "cell_type": "markdown",
      "metadata": {
        "id": "L6irLFPYlzzY"
      },
      "source": [
        "### CX Gate (CNOT Gate)\n",
        "The controlled NOT gate (or CNOT or CX) acts on 2 qubits, and performs the NOT operation (equivalent to applying an X gate) on the second qubit only when the first qubit is $|1>$, and otherwise leaves it unchanged.\n",
        "\n",
        "$CX = \\begin{pmatrix}\n",
        "1 & 0 & 0 & 0\\\\\n",
        "0 & 1 & 0 & 0\\\\\n",
        "0 & 0 & 0 & 1\\\\\n",
        "0 & 0 & 1 & 0\\\\\n",
        "\\end{pmatrix}$"
      ]
    },
    {
      "cell_type": "code",
      "execution_count": null,
      "metadata": {
        "id": "3pJn8EYvlzzZ",
        "outputId": "1bbe3791-43f2-477b-8cb4-2371792efa1f"
      },
      "outputs": [
        {
          "data": {
            "image/png": "[encoded data removed]",
            "text/plain": [
              "<Figure size 146.652x144.48 with 1 Axes>"
            ]
          },
          "execution_count": 15,
          "metadata": {},
          "output_type": "execute_result"
        }
      ],
      "source": [
        "qc = QuantumCircuit(2)\n",
        "qc.cx(0,1)\n",
        "qc.draw(output='mpl')"
      ]
    },
    {
      "cell_type": "markdown",
      "metadata": {
        "id": "Ks_-rjUVlzza"
      },
      "source": [
        "### CZ Gate\n",
        "The CZ gate acts on two qubits (each called a 'controlled bit' and a 'target bit'). It flips the sign (equivalent to applying the phase shift Z gate) of the target qubit if and only if the control qubit is |1>.\n",
        "\n",
        "$CZ = \\begin{pmatrix}\n",
        "1 & 0 & 0 & 0\\\\\n",
        "0 & 1 & 0 & 0\\\\\n",
        "0 & 0 & 1 & 0\\\\\n",
        "0 & 0 & 0 & -1\\\\\n",
        "\\end{pmatrix}$"
      ]
    },
    {
      "cell_type": "code",
      "execution_count": null,
      "metadata": {
        "id": "I5NXJ0aQlzzb",
        "outputId": "21077739-1542-4f20-f7ca-1ec7a4aa0f06"
      },
      "outputs": [
        {
          "data": {
            "image/png": "[encoded data removed]",
            "text/plain": [
              "<Figure size 146.652x144.48 with 1 Axes>"
            ]
          },
          "execution_count": 16,
          "metadata": {},
          "output_type": "execute_result"
        }
      ],
      "source": [
        "qc = QuantumCircuit(2)\n",
        "qc.cz(0,1)\n",
        "qc.draw(output='mpl')"
      ]
    },
    {
      "cell_type": "markdown",
      "metadata": {
        "id": "lm3xpFrjlzzc"
      },
      "source": [
        "Note: A CZ gate can also be constructed from a CX gate and H gate."
      ]
    },
    {
      "cell_type": "code",
      "execution_count": null,
      "metadata": {
        "id": "meDAjbozlzzc",
        "outputId": "82202dda-3c70-4c0a-f916-824219217ec4"
      },
      "outputs": [
        {
          "data": {
            "image/png": "[encoded data removed]",
            "text/plain": [
              "<Figure size 267.052x144.48 with 1 Axes>"
            ]
          },
          "execution_count": 18,
          "metadata": {},
          "output_type": "execute_result"
        }
      ],
      "source": [
        "qc = QuantumCircuit(2)\n",
        "\n",
        "qc.h(1)\n",
        "qc.cx(0,1)\n",
        "qc.h(1)\n",
        "qc.draw(output='mpl')"
      ]
    },
    {
      "cell_type": "markdown",
      "metadata": {
        "id": "ZP-_W-1Xlzzc"
      },
      "source": [
        "### CCX Gate\n",
        "The CCX gate is also called a Toffoli gate.\n",
        "The CCX gate is a 3-bit gate, with two controls and one target as their input and output. When if the first two bits are in the state |1> it applies a Pauli-X (or NOT) on the third bit, else it does nothing.\n",
        "\n",
        "$CCX = \\begin{pmatrix}\n",
        "1 & 0 & 0 & 0 & 0 & 0 & 0 & 0\\\\\n",
        "0 & 1 & 0 & 0 & 0 & 0 & 0 & 0\\\\\n",
        "0 & 0 & 1 & 0 & 0 & 0 & 0 & 0\\\\\n",
        "0 & 0 & 0 & 0 & 0 & 0 & 0 & 1\\\\\n",
        "0 & 0 & 0 & 0 & 1 & 0 & 0 & 0\\\\\n",
        "0 & 0 & 0 & 0 & 0 & 1 & 0 & 0\\\\\n",
        "0 & 0 & 0 & 0 & 0 & 0 & 1 & 0\\\\\n",
        "0 & 0 & 0 & 1 & 0 & 0 & 0 & 0\\\\\n",
        "\\end{pmatrix}$"
      ]
    },
    {
      "cell_type": "code",
      "execution_count": null,
      "metadata": {
        "id": "z9kGX7M2lzzd",
        "outputId": "e24bce5a-8f86-4703-aae2-3ce1d5ba15f8"
      },
      "outputs": [
        {
          "data": {
            "image/png": "[encoded data removed]",
            "text/plain": [
              "<Figure size 146.797x204.68 with 1 Axes>"
            ]
          },
          "execution_count": 19,
          "metadata": {},
          "output_type": "execute_result"
        }
      ],
      "source": [
        "qc = QuantumCircuit(3)\n",
        "qc.ccx(0,1,2)\n",
        "qc.draw(output='mpl')"
      ]
    },
    {
      "cell_type": "markdown",
      "metadata": {
        "id": "tBBB0OqXlzze"
      },
      "source": [
        "For learning about other quantum gates, please refer to [Summary of Quantum Operations](https://github.com/Qiskit/qiskit-iqx-tutorials/blob/master/qiskit/fundamentals/7_summary_of_quantum_operations.ipynb) from qiskit-iqx-tutorials."
      ]
    },
    {
      "cell_type": "markdown",
      "metadata": {
        "id": "wBx-5CqSlzze"
      },
      "source": [
        "### Generalization of CCX gate to multiple qubits\n",
        "\n",
        "Suppose we want to apply a NOT gate controlled by multiple qubits. \n",
        "\n",
        "There is a function called `mct` for performing this task in Qiskit. You provide the list of controls as a list.\n",
        "\n",
        "In the function below, you see different realizations of mct with different controls"
      ]
    },
    {
      "cell_type": "code",
      "execution_count": null,
      "metadata": {
        "id": "OS4TUF1dlzzf",
        "outputId": "7428758a-b1e5-4a3e-85f9-ec138b19bb6e"
      },
      "outputs": [
        {
          "data": {
            "image/png": "[encoded data removed]",
            "text/plain": [
              "<Figure size 267.197x445.48 with 1 Axes>"
            ]
          },
          "execution_count": 8,
          "metadata": {},
          "output_type": "execute_result"
        }
      ],
      "source": [
        "qc = QuantumCircuit(7)\n",
        "qc.mct([0,1,2,3],4)\n",
        "qc.mct([0,2,3,5,6],1)\n",
        "qc.mct([4,5,6],3)\n",
        "qc.draw(output='mpl')"
      ]
    },
    {
      "cell_type": "markdown",
      "metadata": {
        "id": "yhYrjVoZlzzf"
      },
      "source": [
        "## Creating logical gates with quantum gates\n",
        "Now let's start creating a classic logic gate using quantum gates.\n",
        "Each gates and their truth tables will be shown. Here we denote quantum registers as 'q', classical registers as 'c' where we encode the output of the measurement."
      ]
    },
    {
      "cell_type": "markdown",
      "metadata": {
        "id": "EtrBSBNdlzzg"
      },
      "source": [
        "### NOT Gate\n",
        "As it's mentioned before, a X gate can be considered as a NOT gate. Truth table for a NOT Gate looks like this:\n",
        "\n",
        "\n",
        "|input|output|\n",
        "|--|--|\n",
        "|0|1|\n",
        "|1|0|"
      ]
    },
    {
      "cell_type": "code",
      "execution_count": null,
      "metadata": {
        "id": "DFhxSYD6lzzg",
        "outputId": "19f71061-b65b-4bf4-e196-08fedae3b341"
      },
      "outputs": [
        {
          "data": {
            "image/png": "[encoded data removed]",
            "text/plain": [
              "<Figure size 193.726x144.48 with 1 Axes>"
            ]
          },
          "execution_count": 23,
          "metadata": {},
          "output_type": "execute_result"
        }
      ],
      "source": [
        "qc = QuantumCircuit(1,1)\n",
        "qc.x(0)\n",
        "qc.measure(0,0)\n",
        "qc.draw(output='mpl')"
      ]
    },
    {
      "cell_type": "markdown",
      "metadata": {
        "id": "VjELbW_Rlzzg"
      },
      "source": [
        "### AND Gate\n",
        "Truth table for an AND Gate looks like this:\n",
        "\n",
        "|A(input)|B(input)|output|\n",
        "|--|--|--|\n",
        "|0|0|0|\n",
        "|0|1|0|\n",
        "|1|0|0|\n",
        "|1|1|1|\n",
        "\n",
        "With a CCX gate, the result of an AND gate for 2 controlled bits will be output to its target bit."
      ]
    },
    {
      "cell_type": "code",
      "execution_count": null,
      "metadata": {
        "id": "vrmQOXeVlzzh",
        "outputId": "7ce970d2-040b-46fd-c25e-6cde4965767f"
      },
      "outputs": [
        {
          "data": {
            "image/png": "[encoded data removed]",
            "text/plain": [
              "<Figure size 206.997x264.88 with 1 Axes>"
            ]
          },
          "execution_count": 25,
          "metadata": {},
          "output_type": "execute_result"
        }
      ],
      "source": [
        "qc = QuantumCircuit(3,1)\n",
        "qc.ccx(0,1,2)\n",
        "qc.measure(2,0)\n",
        "qc.draw(output='mpl')"
      ]
    },
    {
      "cell_type": "markdown",
      "metadata": {
        "id": "9OPpG90qlzzh"
      },
      "source": [
        "### NAND Gate\n",
        "A NAND gate can be made by applying a NOT gate after applying an AND gate.\n",
        "\n",
        "|A(input)|B(input)|output|\n",
        "|--|--|--|\n",
        "|0|0|1|\n",
        "|0|1|1|\n",
        "|1|0|1|\n",
        "|1|1|0|"
      ]
    },
    {
      "cell_type": "code",
      "execution_count": null,
      "metadata": {
        "id": "OIAelPB-lzzi",
        "outputId": "d5306ba6-f2a0-453b-8e0d-17c135b7b8a4"
      },
      "outputs": [
        {
          "data": {
            "image/png": "[encoded data removed]",
            "text/plain": [
              "<Figure size 267.197x264.88 with 1 Axes>"
            ]
          },
          "execution_count": 26,
          "metadata": {},
          "output_type": "execute_result"
        }
      ],
      "source": [
        "qc = QuantumCircuit(3,1)\n",
        "qc.ccx(0,1,2)\n",
        "qc.x(2)\n",
        "qc.measure(2,0)\n",
        "qc.draw(output='mpl')"
      ]
    },
    {
      "cell_type": "markdown",
      "metadata": {
        "id": "repENlMPlzzi"
      },
      "source": [
        "### OR Gate\n",
        "\n",
        "|A(input)|B(input)|output|\n",
        "|--|--|--|\n",
        "|0|0|0|\n",
        "|0|1|1|\n",
        "|1|0|1|\n",
        "|1|1|1|"
      ]
    },
    {
      "cell_type": "code",
      "execution_count": null,
      "metadata": {
        "id": "HQuvAO3Olzzi",
        "outputId": "60aabdd5-9589-435b-feab-cfac3f12ed18"
      },
      "outputs": [
        {
          "data": {
            "image/png": "[encoded data removed]",
            "text/plain": [
              "<Figure size 327.397x264.88 with 1 Axes>"
            ]
          },
          "execution_count": 27,
          "metadata": {},
          "output_type": "execute_result"
        }
      ],
      "source": [
        "qc = QuantumCircuit(3,1)\n",
        "\n",
        "qc.cx(1,2)\n",
        "qc.cx(0,2)\n",
        "qc.ccx(0,1,2)\n",
        "qc.measure(2,0)\n",
        "qc.draw(output='mpl')"
      ]
    },
    {
      "cell_type": "markdown",
      "metadata": {
        "id": "IBCdYuZLlzzj"
      },
      "source": [
        "Alternatively"
      ]
    },
    {
      "cell_type": "code",
      "execution_count": null,
      "metadata": {
        "id": "K7rhqhp-lzzj",
        "outputId": "7356110a-b231-4aee-a06b-ca86d9606377"
      },
      "outputs": [
        {
          "data": {
            "image/png": "[encoded data removed]",
            "text/plain": [
              "<Figure size 327.397x264.88 with 1 Axes>"
            ]
          },
          "execution_count": 28,
          "metadata": {},
          "output_type": "execute_result"
        }
      ],
      "source": [
        "qc = QuantumCircuit(3,1)\n",
        "\n",
        "qc.x(0)\n",
        "qc.x(1)\n",
        "qc.ccx(0,1,2)\n",
        "qc.x(2)\n",
        "qc.measure(2,0)\n",
        "qc.draw(output='mpl')"
      ]
    },
    {
      "cell_type": "markdown",
      "metadata": {
        "id": "2YJhY7lnlzzj"
      },
      "source": [
        "### XOR Gate\n",
        "|A(input)|B(input)|output|\n",
        "|--|--|--|\n",
        "|0|0|0|\n",
        "|0|1|1|\n",
        "|1|0|1|\n",
        "|1|1|0|"
      ]
    },
    {
      "cell_type": "code",
      "execution_count": null,
      "metadata": {
        "id": "Nf2w-jIrlzzl",
        "outputId": "55933a98-b477-4e81-a157-8e04c4f962ca"
      },
      "outputs": [
        {
          "data": {
            "image/png": "[encoded data removed]",
            "text/plain": [
              "<Figure size 267.197x264.88 with 1 Axes>"
            ]
          },
          "execution_count": 29,
          "metadata": {},
          "output_type": "execute_result"
        }
      ],
      "source": [
        "qc = QuantumCircuit(3,1)\n",
        "qc.cx(1,2)\n",
        "qc.cx(0,2)\n",
        "qc.measure(2,0)\n",
        "qc.draw(output='mpl')"
      ]
    }
  ],
  "metadata": {
    "kernelspec": {
      "display_name": "Python 3",
      "language": "python",
      "name": "python3"
    },
    "language_info": {
      "codemirror_mode": {
        "name": "ipython",
        "version": 3
      },
      "file_extension": ".py",
      "mimetype": "text/x-python",
      "name": "python",
      "nbconvert_exporter": "python",
      "pygments_lexer": "ipython3",
      "version": "3.7.3"
    },
    "colab": {
      "provenance": [],
      "include_colab_link": true
    }
  },
  "nbformat": 4,
  "nbformat_minor": 0
}