{
  "cells": [
    {
      "cell_type": "markdown",
      "metadata": {
        "id": "view-in-github",
        "colab_type": "text"
      },
      "source": [
        "<a href=\"https://colab.research.google.com/github/sbbzplt/QiskitFallFest_IZTECH/blob/master/Grovers_maxcut_solutions.ipynb\" target=\"_parent\"><img src=\"https://colab.research.google.com/assets/colab-badge.svg\" alt=\"Open In Colab\"/></a>"
      ]
    },
    {
      "cell_type": "code",
      "execution_count": null,
      "id": "6d154727",
      "metadata": {
        "id": "6d154727"
      },
      "outputs": [],
      "source": [
        "from qiskit import *"
      ]
    },
    {
      "cell_type": "markdown",
      "id": "a18880d8",
      "metadata": {
        "id": "a18880d8"
      },
      "source": [
        "### Task 1\n",
        "\n",
        "Decide if the given graph has **3 cut-edges** where vertices V and edges E are:<br/>\n",
        "V: (0,1,2,3)<br/>\n",
        "E: (0,1),(0,2),(0,3)  \n",
        "by using Grover's Algorithm with **iteration = 2** times.\n",
        "\n",
        "Use qubits 0,1,2,3 for the vertices, qubits 4,5,6 to store the result of edge checks, 7 and 8 to store the count and 9 as output.\n",
        "\n",
        "Complete the oracle function."
      ]
    },
    {
      "cell_type": "markdown",
      "id": "63d24637",
      "metadata": {
        "id": "63d24637"
      },
      "source": [
        "### Solution"
      ]
    },
    {
      "cell_type": "code",
      "execution_count": null,
      "id": "ea886366",
      "metadata": {
        "id": "ea886366"
      },
      "outputs": [],
      "source": [
        "#cutedge checker\n",
        "#Creates a circuit with n qubits, checks edge ab, and stores the result in c\n",
        "def ccheck(n, a, b, c):\n",
        "    qc = QuantumCircuit(n)\n",
        "    qc.cx(a,c) \n",
        "    qc.cx(b,c)\n",
        "    return qc"
      ]
    },
    {
      "cell_type": "code",
      "execution_count": null,
      "id": "5e7dcc9a",
      "metadata": {
        "id": "5e7dcc9a"
      },
      "outputs": [],
      "source": [
        "def oracle():\n",
        "    qc = QuantumCircuit(10)\n",
        "    #Check edge 01, store in qubit 4\n",
        "    qc += ccheck(10,0,1,4)\n",
        "    #Check edge 02, store in qubit 5\n",
        "    qc += ccheck(10,0,2,5)\n",
        "    #Check edge 03, store in qubit 6\n",
        "    qc += ccheck(10,0,3,6)\n",
        "\n",
        "    qc.barrier()\n",
        "\n",
        "    #add qubit 4\n",
        "    qc.cx(4,7)\n",
        "\n",
        "    #add qubit 5\n",
        "    qc.ccx(5,7,8)\n",
        "    qc.cx(5,7)\n",
        "    \n",
        "    #add qubit 6\n",
        "    qc.ccx(6,7,8)\n",
        "    qc.cx(6,7)\n",
        "\n",
        "    #Check if qubits 7 and 8 store 11 and save this in qubit 9 \n",
        "    qc.ccx(7,8,9)\n",
        "    \n",
        "    return qc"
      ]
    },
    {
      "cell_type": "code",
      "execution_count": null,
      "id": "9a757981",
      "metadata": {
        "id": "9a757981"
      },
      "outputs": [],
      "source": [
        "def inversion_about_average():\n",
        "    \"\"\"Apply inversion about the average step of Grover's algorithm.\"\"\"\n",
        "    circuit = QuantumCircuit(10)\n",
        "    for i in range(4):\n",
        "        circuit.h(i)\n",
        "    for i in range(4):\n",
        "        circuit.x(i)\n",
        "    circuit.h(3)\n",
        "    circuit.mct([0,1,2],3)\n",
        "    circuit.h(3)\n",
        "    for i in range(4):\n",
        "        circuit.x(i)\n",
        "    for i in range(4):\n",
        "        circuit.h(i)\n",
        "    return circuit"
      ]
    },
    {
      "cell_type": "code",
      "execution_count": null,
      "id": "2ca4bf97",
      "metadata": {
        "id": "2ca4bf97",
        "outputId": "77ddbc4d-515f-4447-c1ad-2b5ba5a88a93"
      },
      "outputs": [
        {
          "name": "stdout",
          "output_type": "stream",
          "text": [
            "{'1000': 493, '0111': 481, '1111': 4, '0100': 6, '1100': 4, '1011': 6, '0101': 1, '0110': 5, '1101': 2, '1010': 4, '0001': 4, '0011': 4, '0010': 1, '0000': 3, '1110': 5, '1001': 1}\n"
          ]
        }
      ],
      "source": [
        "groverCircuit = QuantumCircuit(10,4)\n",
        "for i in range(4):\n",
        "    groverCircuit.h(i)\n",
        "\n",
        "iterations = 2\n",
        "for i in range(iterations):\n",
        "    #query phase\n",
        "    groverCircuit += oracle()\n",
        "    #note that we store the result in qubit 9\n",
        "    groverCircuit.z(9)\n",
        "    groverCircuit += oracle().inverse()\n",
        "\n",
        "    groverCircuit.barrier()\n",
        "\n",
        "    #inversion phase\n",
        "    groverCircuit += inversion_about_average()\n",
        "\n",
        "#measure in reverse order\n",
        "for i in range(4):    \n",
        "    groverCircuit.measure(i,3-i)\n",
        "\n",
        "backend = BasicAer.get_backend('qasm_simulator')\n",
        "shots = 1024\n",
        "results = execute(groverCircuit, backend=backend, shots=shots).result()\n",
        "answer = results.get_counts()\n",
        "print(answer)"
      ]
    }
  ],
  "metadata": {
    "kernelspec": {
      "display_name": "Python 3",
      "language": "python",
      "name": "python3"
    },
    "language_info": {
      "codemirror_mode": {
        "name": "ipython",
        "version": 3
      },
      "file_extension": ".py",
      "mimetype": "text/x-python",
      "name": "python",
      "nbconvert_exporter": "python",
      "pygments_lexer": "ipython3",
      "version": "3.7.3"
    },
    "colab": {
      "provenance": [],
      "include_colab_link": true
    }
  },
  "nbformat": 4,
  "nbformat_minor": 5
}