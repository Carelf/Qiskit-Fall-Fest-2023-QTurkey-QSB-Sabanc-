{
  "cells": [
    {
      "cell_type": "markdown",
      "metadata": {
        "id": "view-in-github",
        "colab_type": "text"
      },
      "source": [
        "<a href=\"https://colab.research.google.com/github/sbbzplt/QiskitFallFest_IZTECH/blob/master/Multi_qubit_systems_solutions.ipynb\" target=\"_parent\"><img src=\"https://colab.research.google.com/assets/colab-badge.svg\" alt=\"Open In Colab\"/></a>"
      ]
    },
    {
      "cell_type": "markdown",
      "id": "0a41e785",
      "metadata": {
        "id": "0a41e785"
      },
      "source": [
        "<table width=\"100%\"><tr><td style=\"color:#bbbbbb;background-color:#ffffff;font-size:11px;font-style:italic;text-align:right;\">This cell contains some macros. If there is a problem with displaying mathematical formulas, please run this cell to load these macros. </td></tr></table>\n",
        "$ \\newcommand{\\bra}[1]{\\langle #1|} $\n",
        "$ \\newcommand{\\ket}[1]{|#1\\rangle} $\n",
        "$ \\newcommand{\\braket}[2]{\\langle #1|#2\\rangle} $\n",
        "$ \\newcommand{\\dot}[2]{ #1 \\cdot #2} $\n",
        "$ \\newcommand{\\biginner}[2]{\\left\\langle #1,#2\\right\\rangle} $\n",
        "$ \\newcommand{\\mymatrix}[2]{\\left( \\begin{array}{#1} #2\\end{array} \\right)} $\n",
        "$ \\newcommand{\\myvector}[1]{\\mymatrix{c}{#1}} $\n",
        "$ \\newcommand{\\myrvector}[1]{\\mymatrix{r}{#1}} $\n",
        "$ \\newcommand{\\mypar}[1]{\\left( #1 \\right)} $\n",
        "$ \\newcommand{\\mybigpar}[1]{ \\Big( #1 \\Big)} $\n",
        "$ \\newcommand{\\sqrttwo}{\\frac{1}{\\sqrt{2}}} $\n",
        "$ \\newcommand{\\dsqrttwo}{\\dfrac{1}{\\sqrt{2}}} $\n",
        "$ \\newcommand{\\onehalf}{\\frac{1}{2}} $\n",
        "$ \\newcommand{\\donehalf}{\\dfrac{1}{2}} $\n",
        "$ \\newcommand{\\hadamard}{ \\mymatrix{rr}{ \\sqrttwo & \\sqrttwo \\\\ \\sqrttwo & -\\sqrttwo }} $\n",
        "$ \\newcommand{\\vzero}{\\myvector{1\\\\0}} $\n",
        "$ \\newcommand{\\vone}{\\myvector{0\\\\1}} $\n",
        "$ \\newcommand{\\vhadamardzero}{\\myvector{ \\sqrttwo \\\\  \\sqrttwo } } $\n",
        "$ \\newcommand{\\vhadamardone}{ \\myrvector{ \\sqrttwo \\\\ -\\sqrttwo } } $\n",
        "$ \\newcommand{\\myarray}[2]{ \\begin{array}{#1}#2\\end{array}} $\n",
        "$ \\newcommand{\\X}{ \\mymatrix{cc}{0 & 1 \\\\ 1 & 0}  } $\n",
        "$ \\newcommand{\\Z}{ \\mymatrix{rr}{1 & 0 \\\\ 0 & -1}  } $\n",
        "$ \\newcommand{\\Htwo}{ \\mymatrix{rrrr}{ \\frac{1}{2} & \\frac{1}{2} & \\frac{1}{2} & \\frac{1}{2} \\\\ \\frac{1}{2} & -\\frac{1}{2} & \\frac{1}{2} & -\\frac{1}{2} \\\\ \\frac{1}{2} & \\frac{1}{2} & -\\frac{1}{2} & -\\frac{1}{2} \\\\ \\frac{1}{2} & -\\frac{1}{2} & -\\frac{1}{2} & \\frac{1}{2} } } $\n",
        "$ \\newcommand{\\CNOT}{ \\mymatrix{cccc}{1 & 0 & 0 & 0 \\\\ 0 & 1 & 0 & 0 \\\\ 0 & 0 & 0 & 1 \\\\ 0 & 0 & 1 & 0} } $\n",
        "$ \\newcommand{\\norm}[1]{ \\left\\lVert #1 \\right\\rVert } $\n",
        "$ \\newcommand{\\blackbit}[1] {\\mathbf{{\\color{black}#1}}} $\n",
        "$ \\newcommand{\\bluebit}[1] {\\mathbf{{\\color{blue}#1}}} $"
      ]
    },
    {
      "cell_type": "markdown",
      "id": "f27b0fb7",
      "metadata": {
        "id": "f27b0fb7"
      },
      "source": [
        "$ \\newcommand{\\ket}[1]{|#1\\rangle} $"
      ]
    },
    {
      "cell_type": "markdown",
      "id": "2e133061",
      "metadata": {
        "id": "2e133061"
      },
      "source": [
        "<h3> Görev 1 </h3>\n",
        "\n",
        "$ \\big( 0.2 \\ket{0} + 0.8 \\ket{1} \\big) \\otimes  \\big( 0.6 \\ket{0} + 0.4 \\ket{1} \\big) $ sisteminin kompozit durumunu bulun.\n",
        "\n",
        "\n",
        "<h3>Çözüm</h3>\n",
        "\n",
        "The probabilistic state of the composite system is $ \\big( 0.2 \\ket{0} + 0.8 \\ket{1} \\big) \\otimes  \\big( 0.6 \\ket{0} + 0.4 \\ket{1} \\big) $.\n",
        "\n",
        "$ \\big( 0.2 \\ket{0} + 0.8 \\ket{1} \\big) \\otimes  \\big( 0.6 \\ket{0} + 0.4 \\ket{1} \\big) =   $\n",
        "\n",
        "$ 0.12 \\big( \\ket{0} \\otimes \\ket{0} \\big) + 0.08 \\big( \\ket{0} \\otimes \\ket{1} \\big) + 0.48 \\big( \\ket{1} \\otimes \\ket{0} \\big) + 0.32 \\big( \\ket{1} \\otimes \\ket{1} \\big) = $\n",
        "\n",
        "$ 0.12 \\ket{00} + 0.08 \\ket{01} + 0.48 \\ket{10} + 0.32 \\ket{11}. $"
      ]
    },
    {
      "cell_type": "markdown",
      "id": "5f31bebf",
      "metadata": {
        "id": "5f31bebf"
      },
      "source": [
        "<h3> Görev 2</h3>\n",
        "\n",
        "Tensör çarpımını hesaplayarak kompozit sistemin durumunu bulun. $ \\myvector{0.2 \\\\ 0.8} \\otimes \\myvector{0.6 \\\\ 0.4 } $."
      ]
    },
    {
      "cell_type": "markdown",
      "id": "b94b71f5",
      "metadata": {
        "id": "b94b71f5"
      },
      "source": [
        "<h3>Çözüm</h3>\n",
        "\n",
        " $ \\myvector{0.2 \\\\ 0.8} \\otimes \\myvector{0.6 \\\\ 0.4 } = \\myvector{ 0.2 \\myvector{0.6 \\\\ 0.4} \\\\ 0.8 \\myvector{0.6 \\\\ 0.4}  } = \\myvector{0.12 \\\\ 0.08 \\\\ 0.48 \\\\ 0.32} $."
      ]
    },
    {
      "cell_type": "markdown",
      "id": "a7d010ac",
      "metadata": {
        "id": "a7d010ac"
      },
      "source": [
        "<h3> Görev 3 </h3>\n",
        "\n",
        "<img src=\"../IEEE_Marmara_TECHCO-main/cnot.jpg\" width=\"40%\">\n",
        "\n",
        "Verilen devreyi python kodları ile gerçekleştirin."
      ]
    },
    {
      "cell_type": "markdown",
      "id": "16b7f47b",
      "metadata": {
        "id": "16b7f47b"
      },
      "source": [
        "<h3> Çözüm </h3>"
      ]
    },
    {
      "cell_type": "code",
      "execution_count": null,
      "id": "abf9b404",
      "metadata": {
        "id": "abf9b404",
        "outputId": "4625bb6c-706a-468b-c3b2-0610887fd5a9"
      },
      "outputs": [
        {
          "data": {
            "text/plain": [
              "<Figure size 454.517x284.278 with 1 Axes>"
            ]
          },
          "metadata": {},
          "output_type": "display_data"
        }
      ],
      "source": [
        "from qiskit import QuantumRegister, ClassicalRegister, QuantumCircuit, execute, Aer\n",
        "\n",
        "q = QuantumRegister(2, \"q\")\n",
        "c = ClassicalRegister(2, \"c\")\n",
        "\n",
        "qc = QuantumCircuit(q,c)\n",
        "\n",
        "qc.x(q[0])\n",
        "\n",
        "qc.cx(q[0],q[1])\n",
        "\n",
        "# the second measurement\n",
        "qc.measure(q,c)\n",
        "\n",
        "# draw the circuit\n",
        "display(qc.draw(output=\"mpl\"))\n"
      ]
    },
    {
      "cell_type": "markdown",
      "id": "2175d0d9",
      "metadata": {
        "id": "2175d0d9"
      },
      "source": [
        "<h3> Görev 4 </h3>\n",
        "\n",
        "İki kubitlik bir devre yaratın. 0. kubite H uygulayın. Ardından 0.kubit kontrol 1.kubit hedef olmak üzere CNOT uygulayın."
      ]
    },
    {
      "cell_type": "markdown",
      "id": "5e878142",
      "metadata": {
        "id": "5e878142"
      },
      "source": [
        "### Çözüm"
      ]
    },
    {
      "cell_type": "code",
      "execution_count": null,
      "id": "9e85212c",
      "metadata": {
        "id": "9e85212c",
        "outputId": "995d044d-3928-4aac-aa13-818bf0afb4ac"
      },
      "outputs": [
        {
          "name": "stdout",
          "output_type": "stream",
          "text": [
            "{'00': 509, '11': 515}\n"
          ]
        }
      ],
      "source": [
        "from qiskit import QuantumRegister, ClassicalRegister, QuantumCircuit\n",
        "from qiskit import execute, Aer\n",
        "\n",
        "mycircuit = QuantumCircuit(2,2)\n",
        "\n",
        "mycircuit.h(0)\n",
        "mycircuit.cx(0,1)\n",
        "\n",
        "mycircuit.measure(0,0)\n",
        "mycircuit.measure(1,1)\n",
        "\n",
        "job = execute(mycircuit,Aer.get_backend('qasm_simulator'),shots=1024)\n",
        "\n",
        "counts = job.result().get_counts(mycircuit)\n",
        "print(counts) "
      ]
    }
  ],
  "metadata": {
    "kernelspec": {
      "display_name": "Python 3",
      "language": "python",
      "name": "python3"
    },
    "language_info": {
      "codemirror_mode": {
        "name": "ipython",
        "version": 3
      },
      "file_extension": ".py",
      "mimetype": "text/x-python",
      "name": "python",
      "nbconvert_exporter": "python",
      "pygments_lexer": "ipython3",
      "version": "3.7.3"
    },
    "colab": {
      "provenance": [],
      "include_colab_link": true
    }
  },
  "nbformat": 4,
  "nbformat_minor": 5
}