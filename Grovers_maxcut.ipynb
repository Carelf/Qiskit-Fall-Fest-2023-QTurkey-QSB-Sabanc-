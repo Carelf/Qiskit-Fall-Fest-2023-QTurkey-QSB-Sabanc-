{
  "cells": [
    {
      "cell_type": "markdown",
      "metadata": {
        "id": "view-in-github",
        "colab_type": "text"
      },
      "source": [
        "<a href=\"https://colab.research.google.com/github/sbbzplt/QiskitFallFest_IZTECH/blob/master/Grovers_maxcut.ipynb\" target=\"_parent\"><img src=\"https://colab.research.google.com/assets/colab-badge.svg\" alt=\"Open In Colab\"/></a>"
      ]
    },
    {
      "cell_type": "markdown",
      "metadata": {
        "id": "9pHzIpBikUxl"
      },
      "source": [
        "# Using Grover's algorithm to solve the Max Cut problem\n",
        "\n",
        "We will try solving a famous problem called the Maximum Cut Problem (or Max Cut in short) using Grover's algorithm."
      ]
    },
    {
      "cell_type": "code",
      "execution_count": null,
      "metadata": {
        "id": "J1ezDmZAkUxp"
      },
      "outputs": [],
      "source": [
        "from qiskit import *"
      ]
    },
    {
      "cell_type": "markdown",
      "metadata": {
        "id": "L7NWnx9VkUxr"
      },
      "source": [
        "## The Max Cut Problem\n",
        "\n",
        "The Maximum Cut problem, or Max Cut in short, is a problem involving separating the vertex set of an undirected graph into two zones in order to maximize the number of edges crossing the two zones. Here we denote any undirected graph as G, vertices as V and edges as E. The two groups when separated by a line (or a cut) will be separate zones.\n",
        "\n",
        "Given this notation, we need to find out how to maximize the number of edges E that crosses between the two zones.\n",
        "\n",
        "### Solving the Max Cut problem using a quantum algorithm\n",
        "There are several approaches to solving a Max Cut problem using a quantum algorithm such as:  \n",
        "[Quantum Approximate Optimization Algorithm (QAOA)](https://qiskit.org/documentation/aqua/optimization/qiskit_optimization.html) and \n",
        "[Variational Quantum Eigensolver (VQE)](https://medium.com/qiskit/the-variational-quantum-eigensolver-43f7718c2747).\n",
        "\n",
        "Here we are going to use Grover's algorithm.\n",
        "\n",
        "Let us start with a simple example where we have\n",
        "(0,1,2）as our three vertices and\n",
        "(0,1),(1,2) as our two edges connecting these vertices.\n",
        "<img src=\"maxcut.png\" width=\"320\">\n",
        "\n",
        "\n",
        "Let us cut this graph to create two zones in three different ways. (The edges crossing different zones will be called **'cut-edges'** from here on.)\n",
        "As you can see here, the first cut pattern gives us the maximum value of edges crossing different zones.\n",
        "And there you have it. The maximum value of cut-edges for this graph is 2."
      ]
    },
    {
      "cell_type": "markdown",
      "metadata": {
        "id": "BUyhd3ndkUxs"
      },
      "source": [
        "### Judging the cut-edges using a quantum circuit\n",
        "Let us first build a judgement circuit to determine if we have a cut-edge or not in a graph.\n",
        "\n",
        "We assign qubits to each vertex and then assign 0 and 1 to each subgraph (zone).   \n",
        "\n",
        "Example: Say we have two vertices. We will use 1 qubit for each vertex.\n",
        "\n",
        "-00 means both vertices are in zone 0\n",
        "-01 means first vertex is in zone 0 and second vertex is in zone 1\n",
        "-10 means first vertex is in zone 1 and second vertex is in zone 0\n",
        "-11 means both vertices are in zone 1\n",
        "\n",
        "When the vertices (a, b) are in the same zone, then the oracle will give us 0. \n",
        "When the vertices (a, b) are in a different group or zone, then the oracle will give us 1.  \n",
        "Look at the truth table below. Notice that the results are the same as an XOR circuit.\n",
        "\n",
        "|Vertex a|Vertex b|Result|\n",
        "|--|--|--|\n",
        "|0|0|0|\n",
        "|0|1|1|\n",
        "|1|0|1|\n",
        "|1|1|0|\n",
        "\n",
        "Let us look at what the corresponding circuit looks like.   \n"
      ]
    },
    {
      "cell_type": "code",
      "execution_count": null,
      "metadata": {
        "id": "suVaATl9kUxt"
      },
      "outputs": [],
      "source": [
        "#cutedge checker\n",
        "#Creates a circuit with n qubits, checks edge ab, and stores the result in c\n",
        "def ccheck(n, a, b, c):\n",
        "    qc = QuantumCircuit(n)\n",
        "    qc.cx(a,c) \n",
        "    qc.cx(b,c)\n",
        "    return qc\n",
        "\n",
        "qc = ccheck(3, 0,1,2)\n",
        "qc.draw(output='mpl')"
      ]
    },
    {
      "cell_type": "markdown",
      "metadata": {
        "id": "GkWMj-tJkUxu"
      },
      "source": [
        "## Counting the cut-edges\n",
        "\n",
        "We have learnt how to count the number of 1s in a state. \n",
        "\n",
        "Let's look at the graph above again. It has 3 vertices and 2 edges.\n",
        "\n",
        "For our subgraph containing its vertices in q[0],q[1],q[2], we will encode the judgement results to q[3],q[4].\n",
        "\n",
        "Then by counting the number of 1s stored in q[3] and q[4], we will get the number of cut-edges and store this in q[5],q[6]."
      ]
    },
    {
      "cell_type": "code",
      "execution_count": null,
      "metadata": {
        "id": "hY_-HocEkUxv"
      },
      "outputs": [],
      "source": [
        "qc = QuantumCircuit(8)\n",
        "\n",
        "#Check edge 01, store in qubit 3\n",
        "qc += ccheck(8,0,1,3)\n",
        "#Check edge 12, store in qubit 4\n",
        "qc += ccheck(8,1,2,4)\n",
        "\n",
        "qc.barrier()\n",
        "\n",
        "#add qubit 3\n",
        "qc.cx(3,5)\n",
        "\n",
        "#add qubit 4\n",
        "qc.ccx(4,5,6)\n",
        "qc.cx(4,5)\n",
        "\n",
        "qc.draw(output='mpl')"
      ]
    },
    {
      "cell_type": "markdown",
      "metadata": {
        "id": "gp8XshwbkUxv"
      },
      "source": [
        "Now we have a circuit that counts the cut-edges. \n",
        "\n",
        "\n",
        "## Creating an Oracle for the Max Cut Problem\n",
        "Recall from the “Grover’s Search Algorithm” we learned in week 2 that the marking operation is completely determined by the Boolean oracle function f, which takes a single quantum state as an input and spits out whether or not the state is a search target. This means, we simply need to create a circuit that will either say 'Yes' or 'No' according to the input.\n",
        "\n",
        "Let's say we want to create an oracle that can determine whether the cut-edges is 2.\n",
        "\n",
        "We can check if 2 i.e. 10 is stored in qubits numbered 5 and 6 and set qubit 7 to 1 if this is the case."
      ]
    },
    {
      "cell_type": "code",
      "execution_count": null,
      "metadata": {
        "scrolled": false,
        "id": "tNp6AEfAkUxw"
      },
      "outputs": [],
      "source": [
        "qc = QuantumCircuit(8,1)\n",
        "\n",
        "#Let's assign vertices to zones to check if the oracle is working correct or not\n",
        "\n",
        "#101 (vertex 0 in zone 1, vertex 1 in zone 0, vertex 2 in zone 1)\n",
        "qc.x(0)\n",
        "qc.x(2)\n",
        "\n",
        "#Check edge 01, store in qubit 3\n",
        "qc += ccheck(8,0,1,3)\n",
        "#Check edge 12, store in qubit 4\n",
        "qc += ccheck(8,1,2,4)\n",
        "\n",
        "qc.barrier()\n",
        "\n",
        "#add qubit 3\n",
        "qc.cx(3,5)\n",
        "\n",
        "#add qubit 4\n",
        "qc.ccx(4,5,6)\n",
        "qc.cx(4,5)\n",
        "\n",
        "#Check if qubits 5 and 6 store 10 (note that it will be in reverse order 01 i.e. qubit 5:0 qubit6:1)\n",
        "qc.x(5)\n",
        "qc.ccx(5,6,7)\n",
        "qc.x(5)\n",
        "\n",
        "qc.measure(7,0)\n",
        "\n",
        "backend = Aer.get_backend('qasm_simulator')\n",
        "job = execute(qc, backend, shots=100000)\n",
        "result = job.result()\n",
        "count =result.get_counts()\n",
        "print(count)\n",
        "qc.draw(output='mpl')"
      ]
    },
    {
      "cell_type": "markdown",
      "metadata": {
        "id": "bi3kKhcykUxw"
      },
      "source": [
        "From the results, we can see that qubit 7 is measured 1, hence the initial assignment of vertices to zones we have checked yields 2 cut edges.\n",
        "\n",
        "After operating the phase flip, we reverse all operations we have applied so far to bring q[3] to q[6] back to their initial states. \n",
        "This operation is performed to eliminate unnecessary entanglements between the input qubits q[0] to q[2] and oracle qubits."
      ]
    },
    {
      "cell_type": "markdown",
      "metadata": {
        "id": "Q-HY1ACfkUxw"
      },
      "source": [
        "# Completing our circuit for the Max Cut Problem\n",
        "By adding the Diffusion circuit (a.k.a. amplitude amplification) we learned in the previous week, we can complete our circuit for our Max Cut Problem.\n",
        "Let's try and see if we can obtain the right answer  010 and 101 with high probability."
      ]
    },
    {
      "cell_type": "code",
      "execution_count": null,
      "metadata": {
        "id": "gudNtLVUkUxx"
      },
      "outputs": [],
      "source": [
        "def inversion_about_average():\n",
        "    \"\"\"Apply inversion about the average step of Grover's algorithm.\"\"\"\n",
        "    circuit = QuantumCircuit(8)\n",
        "    for i in range(3):\n",
        "        circuit.h(i)\n",
        "    for i in range(3):\n",
        "        circuit.x(i)\n",
        "    circuit.h(2)\n",
        "    circuit.ccx(0,1,2)\n",
        "    circuit.h(2)\n",
        "    for i in range(3):\n",
        "        circuit.x(i)\n",
        "    for i in range(3):\n",
        "        circuit.h(i)\n",
        "    return circuit"
      ]
    },
    {
      "cell_type": "code",
      "execution_count": null,
      "metadata": {
        "id": "45Uc_zLtkUxx"
      },
      "outputs": [],
      "source": [
        "def oracle():\n",
        "    qc = QuantumCircuit(8)\n",
        "    #Check edge 01, store in qubit 3\n",
        "    qc += ccheck(8,0,1,3)\n",
        "    #Check edge 12, store in qubit 4\n",
        "    qc += ccheck(8,1,2,4)\n",
        "\n",
        "    qc.barrier()\n",
        "\n",
        "    #add qubit 3\n",
        "    qc.cx(3,5)\n",
        "\n",
        "    #add qubit 4\n",
        "    qc.ccx(4,5,6)\n",
        "    qc.cx(4,5)\n",
        "\n",
        "    #Check if qubits 5 and 6 store 10 and save this in qubit 7 (note that it will be in reverse order 01 i.e. qubit 5:0 qubit6:1)\n",
        "    qc.x(5)\n",
        "    qc.ccx(5,6,7)\n",
        "    qc.x(5)\n",
        "    \n",
        "    return qc"
      ]
    },
    {
      "cell_type": "code",
      "execution_count": null,
      "metadata": {
        "id": "LC8cdI82kUxy"
      },
      "outputs": [],
      "source": [
        "groverCircuit = QuantumCircuit(8,3)\n",
        "for i in range(3):\n",
        "    groverCircuit.h(i)\n",
        "\n",
        "#query phase\n",
        "groverCircuit += oracle()\n",
        "#note that we store the result in qubit 7\n",
        "groverCircuit.z(7)\n",
        "groverCircuit += oracle().inverse()\n",
        "\n",
        "groverCircuit.barrier()\n",
        "\n",
        "#inversion phase\n",
        "groverCircuit += inversion_about_average()\n",
        "\n",
        "#measure in reverse order\n",
        "for i in range(3):    \n",
        "    groverCircuit.measure(i,2-i)\n",
        "\n",
        "backend = BasicAer.get_backend('qasm_simulator')\n",
        "shots = 1024\n",
        "results = execute(groverCircuit, backend=backend, shots=shots).result()\n",
        "answer = results.get_counts()\n",
        "print(answer)"
      ]
    },
    {
      "cell_type": "markdown",
      "metadata": {
        "id": "9wFwAYbKkUxy"
      },
      "source": [
        "We've successfully obtained our answers."
      ]
    },
    {
      "cell_type": "markdown",
      "metadata": {
        "id": "vFGFY-dKkUxz"
      },
      "source": [
        "### Task 1\n",
        "\n",
        "Decide if the given graph has **3 cut-edges** where vertices V and edges E are:<br/>\n",
        "V: (0,1,2,3)<br/>\n",
        "E: (0,1),(0,2),(0,3)  \n",
        "by using Grover's Algorithm with **iteration = 2** times.\n",
        "\n",
        "Use qubits 0,1,2,3 for the vertices, qubits 4,5,6 to store the result of edge checks, 7 and 8 to store the count and 9 as output.\n",
        "\n",
        "Complete the oracle function."
      ]
    },
    {
      "cell_type": "code",
      "execution_count": null,
      "metadata": {
        "id": "GUhvVWRYkUxz"
      },
      "outputs": [],
      "source": [
        "#cutedge checker\n",
        "#Creates a circuit with n qubits, checks edge ab, and stores the result in c\n",
        "def ccheck(n, a, b, c):\n",
        "    qc = QuantumCircuit(n)\n",
        "    qc.cx(a,c) \n",
        "    qc.cx(b,c)\n",
        "    return qc"
      ]
    },
    {
      "cell_type": "code",
      "execution_count": null,
      "metadata": {
        "id": "8LwaXwkIkUx0"
      },
      "outputs": [],
      "source": [
        "def oracle():\n",
        "    qc = QuantumCircuit(10)\n",
        "\n",
        "    #Your code here\n",
        "    \n",
        "    return qc"
      ]
    },
    {
      "cell_type": "code",
      "execution_count": null,
      "metadata": {
        "id": "mFQBVlQgkUx0"
      },
      "outputs": [],
      "source": [
        "def inversion_about_average():\n",
        "    \"\"\"Apply inversion about the average step of Grover's algorithm.\"\"\"\n",
        "    circuit = QuantumCircuit(10)\n",
        "    for i in range(4):\n",
        "        circuit.h(i)\n",
        "    for i in range(4):\n",
        "        circuit.x(i)\n",
        "    circuit.h(3)\n",
        "    circuit.mct([0,1,2],3)\n",
        "    circuit.h(3)\n",
        "    for i in range(4):\n",
        "        circuit.x(i)\n",
        "    for i in range(4):\n",
        "        circuit.h(i)\n",
        "    return circuit"
      ]
    },
    {
      "cell_type": "code",
      "execution_count": null,
      "metadata": {
        "id": "DYaBT9MUkUx1"
      },
      "outputs": [],
      "source": [
        "groverCircuit = QuantumCircuit(10,4)\n",
        "for i in range(4):\n",
        "    groverCircuit.h(i)\n",
        "\n",
        "iterations = 2\n",
        "for i in range(iterations):\n",
        "    #query phase\n",
        "    groverCircuit += oracle()\n",
        "    #note that we store the result in qubit 9\n",
        "    groverCircuit.z(9)\n",
        "    groverCircuit += oracle().inverse()\n",
        "\n",
        "    groverCircuit.barrier()\n",
        "\n",
        "    #inversion phase\n",
        "    groverCircuit += inversion_about_average()\n",
        "\n",
        "#measure in reverse order\n",
        "for i in range(4):    \n",
        "    groverCircuit.measure(i,3-i)\n",
        "\n",
        "backend = BasicAer.get_backend('qasm_simulator')\n",
        "shots = 1024\n",
        "results = execute(groverCircuit, backend=backend, shots=shots).result()\n",
        "answer = results.get_counts()\n",
        "print(answer)"
      ]
    },
    {
      "cell_type": "markdown",
      "metadata": {
        "id": "2awCq0YhkUx1"
      },
      "source": [
        "[click for our solution](Grovers_maxcut_solutions.ipynb#task1)"
      ]
    }
  ],
  "metadata": {
    "kernelspec": {
      "display_name": "Python 3",
      "language": "python",
      "name": "python3"
    },
    "language_info": {
      "codemirror_mode": {
        "name": "ipython",
        "version": 3
      },
      "file_extension": ".py",
      "mimetype": "text/x-python",
      "name": "python",
      "nbconvert_exporter": "python",
      "pygments_lexer": "ipython3",
      "version": "3.7.3"
    },
    "colab": {
      "provenance": [],
      "include_colab_link": true
    }
  },
  "nbformat": 4,
  "nbformat_minor": 0
}